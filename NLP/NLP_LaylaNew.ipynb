{
 "cells": [
  {
   "cell_type": "markdown",
   "metadata": {},
   "source": [
    "Import"
   ]
  },
  {
   "cell_type": "code",
   "execution_count": 23,
   "metadata": {},
   "outputs": [
    {
     "data": {
      "text/html": [
       "<div>\n",
       "<style scoped>\n",
       "    .dataframe tbody tr th:only-of-type {\n",
       "        vertical-align: middle;\n",
       "    }\n",
       "\n",
       "    .dataframe tbody tr th {\n",
       "        vertical-align: top;\n",
       "    }\n",
       "\n",
       "    .dataframe thead th {\n",
       "        text-align: right;\n",
       "    }\n",
       "</style>\n",
       "<table border=\"1\" class=\"dataframe\">\n",
       "  <thead>\n",
       "    <tr style=\"text-align: right;\">\n",
       "      <th></th>\n",
       "      <th>Unnamed: 0</th>\n",
       "      <th>Index</th>\n",
       "      <th>Texte</th>\n",
       "      <th>Media</th>\n",
       "      <th>Interaction</th>\n",
       "      <th>Sujet</th>\n",
       "      <th>Données manquantes</th>\n",
       "      <th>A supprimer</th>\n",
       "    </tr>\n",
       "  </thead>\n",
       "  <tbody>\n",
       "    <tr>\n",
       "      <th>0</th>\n",
       "      <td>0</td>\n",
       "      <td>1618580167122890759</td>\n",
       "      <td>le_Parisien :\\n\"« Je me suis sentie humiliée »...</td>\n",
       "      <td>https://video.twimg.com/amplify_video/16185777...</td>\n",
       "      <td>Racine</td>\n",
       "      <td>Loin du VE</td>\n",
       "      <td>False</td>\n",
       "      <td>False</td>\n",
       "    </tr>\n",
       "    <tr>\n",
       "      <th>1</th>\n",
       "      <td>1</td>\n",
       "      <td>1618639717305839616</td>\n",
       "      <td>FloPortelli :\\n\"@le_Parisien Ce qui est dingue...</td>\n",
       "      <td>NaN</td>\n",
       "      <td>Désaccord</td>\n",
       "      <td>Loin du VE</td>\n",
       "      <td>False</td>\n",
       "      <td>False</td>\n",
       "    </tr>\n",
       "    <tr>\n",
       "      <th>2</th>\n",
       "      <td>2</td>\n",
       "      <td>1618867714067693568</td>\n",
       "      <td>SAbdelhamid :\\n\"@FloPortelli @le_Parisien Ce q...</td>\n",
       "      <td>NaN</td>\n",
       "      <td>Désaccord</td>\n",
       "      <td>Loin du VE</td>\n",
       "      <td>False</td>\n",
       "      <td>False</td>\n",
       "    </tr>\n",
       "    <tr>\n",
       "      <th>3</th>\n",
       "      <td>3</td>\n",
       "      <td>1618990967608205314</td>\n",
       "      <td>eve_thefirst :\\n\"@SAbdelhamid @FloPortelli @le...</td>\n",
       "      <td>NaN</td>\n",
       "      <td>Désaccord</td>\n",
       "      <td>Loin du VE</td>\n",
       "      <td>False</td>\n",
       "      <td>False</td>\n",
       "    </tr>\n",
       "    <tr>\n",
       "      <th>4</th>\n",
       "      <td>4</td>\n",
       "      <td>1619606487214747648</td>\n",
       "      <td>ChipeauxMylene :\\n\"@eve_thefirst @SAbdelhamid ...</td>\n",
       "      <td>NaN</td>\n",
       "      <td>Accord</td>\n",
       "      <td>Loin du VE</td>\n",
       "      <td>False</td>\n",
       "      <td>False</td>\n",
       "    </tr>\n",
       "  </tbody>\n",
       "</table>\n",
       "</div>"
      ],
      "text/plain": [
       "   Unnamed: 0                Index  \\\n",
       "0           0  1618580167122890759   \n",
       "1           1  1618639717305839616   \n",
       "2           2  1618867714067693568   \n",
       "3           3  1618990967608205314   \n",
       "4           4  1619606487214747648   \n",
       "\n",
       "                                               Texte  \\\n",
       "0  le_Parisien :\\n\"« Je me suis sentie humiliée »...   \n",
       "1  FloPortelli :\\n\"@le_Parisien Ce qui est dingue...   \n",
       "2  SAbdelhamid :\\n\"@FloPortelli @le_Parisien Ce q...   \n",
       "3  eve_thefirst :\\n\"@SAbdelhamid @FloPortelli @le...   \n",
       "4  ChipeauxMylene :\\n\"@eve_thefirst @SAbdelhamid ...   \n",
       "\n",
       "                                               Media Interaction       Sujet  \\\n",
       "0  https://video.twimg.com/amplify_video/16185777...      Racine  Loin du VE   \n",
       "1                                                NaN   Désaccord  Loin du VE   \n",
       "2                                                NaN   Désaccord  Loin du VE   \n",
       "3                                                NaN   Désaccord  Loin du VE   \n",
       "4                                                NaN      Accord  Loin du VE   \n",
       "\n",
       "  Données manquantes A supprimer  \n",
       "0              False       False  \n",
       "1              False       False  \n",
       "2              False       False  \n",
       "3              False       False  \n",
       "4              False       False  "
      ]
     },
     "execution_count": 23,
     "metadata": {},
     "output_type": "execute_result"
    }
   ],
   "source": [
    "import pandas as pd \n",
    "import matplotlib.pyplot as plt\n",
    "\n",
    "df = pd.read_csv(\"/Users/laylaalkhoury/Desktop/VE-IA/Engineering-Project/tweets_labelled.csv\", delimiter=',')\n",
    "\n",
    "df.head(5)"
   ]
  },
  {
   "cell_type": "markdown",
   "metadata": {},
   "source": [
    "Data Cleaning"
   ]
  },
  {
   "cell_type": "code",
   "execution_count": 24,
   "metadata": {},
   "outputs": [
    {
     "name": "stdout",
     "output_type": "stream",
     "text": [
      "le_Parisien :\n",
      "\"« Je me suis sentie humiliée » : basketteuse depuis 10 ans, Salimata a été exclue du terrain à cause de son voile\n",
      "👉 https://t.co/oXa4A7igIO https://t.co/Lvv3HYDw51\"\n"
     ]
    }
   ],
   "source": [
    "print(df[\"Texte\"].iloc[0])"
   ]
  },
  {
   "cell_type": "code",
   "execution_count": 26,
   "metadata": {},
   "outputs": [
    {
     "name": "stderr",
     "output_type": "stream",
     "text": [
      "[nltk_data] Error loading stopwords: <urlopen error [SSL:\n",
      "[nltk_data]     CERTIFICATE_VERIFY_FAILED] certificate verify failed:\n",
      "[nltk_data]     unable to get local issuer certificate (_ssl.c:1122)>\n"
     ]
    }
   ],
   "source": [
    "\n",
    "import re\n",
    "import nltk\n",
    "from nltk.corpus import stopwords\n",
    "\n",
    "nltk.download('stopwords')\n",
    "french_stopwords = set(stopwords.words('french'))\n",
    "\n",
    "\n",
    "def clean_and_remove_stopwords(tweet):\n",
    "\n",
    "    if not isinstance(tweet, str):  # Check if the input is a string\n",
    "        return \"\"\n",
    "    \n",
    "    # Step 1: Remove URLs\n",
    "    tweet = re.sub(r\"http\\S+|www\\S+|https\\S+\", \"\", tweet, flags=re.MULTILINE)\n",
    "    \n",
    "    # Step 2: Remove emojis and special characters\n",
    "    tweet = re.sub(r\"[^\\w\\s]\", \" \", tweet)\n",
    "    \n",
    "    # Step 3: Remove mentions (tags)\n",
    "    tweet = re.sub(r\"@\\w+\", \"\", tweet)\n",
    "    \n",
    "    # Step 4: Remove extra whitespace\n",
    "    tweet = re.sub(r\"\\s+\", \" \", tweet).strip()\n",
    "    \n",
    "    # Step 5: Remove French stopwords\n",
    "    words = tweet.split()  # Split into words\n",
    "    filtered_words = [word for word in words if word.lower() not in french_stopwords]\n",
    "    return \" \".join(filtered_words)  # Join filtered words into a single string\n",
    "\n",
    "df['clean'] = df['Texte'].apply(clean_and_remove_stopwords)\n",
    "\n",
    "\n"
   ]
  },
  {
   "cell_type": "code",
   "execution_count": 27,
   "metadata": {},
   "outputs": [
    {
     "data": {
      "image/png": "[encoded data removed]",
      "text/plain": [
       "<Figure size 800x500 with 1 Axes>"
      ]
     },
     "metadata": {},
     "output_type": "display_data"
    }
   ],
   "source": [
    "import seaborn as sns \n",
    "\n",
    "# Analyse des catégories (distribution des sujets)\n",
    "\n",
    "plt.figure(figsize=(8, 5))\n",
    "sns.countplot(y='Sujet', data=df, order=df['Sujet'].value_counts().index)\n",
    "plt.title(\"Distribution des Sujets\")\n",
    "plt.show()"
   ]
  },
  {
   "cell_type": "code",
   "execution_count": 28,
   "metadata": {},
   "outputs": [
    {
     "data": {
      "image/png": "[encoded data removed]",
      "text/plain": [
       "<Figure size 800x500 with 1 Axes>"
      ]
     },
     "metadata": {},
     "output_type": "display_data"
    }
   ],
   "source": [
    "# Fréquences des mots\n",
    "from collections import Counter\n",
    "\n",
    "all_words = \" \".join(df['clean']).split()\n",
    "word_freq = Counter(all_words)\n",
    "common_words = word_freq.most_common(10)\n",
    "\n",
    "# Visualiser les mots les plus fréquents\n",
    "words, counts = zip(*common_words)\n",
    "plt.figure(figsize=(8, 5))\n",
    "sns.barplot(x=list(counts), y=list(words))\n",
    "plt.title(\"Top 10 des mots les plus fréquents\")\n",
    "plt.xlabel(\"Fréquence\")\n",
    "plt.ylabel(\"Mots\")\n",
    "plt.show()"
   ]
  },
  {
   "cell_type": "code",
   "execution_count": 29,
   "metadata": {},
   "outputs": [],
   "source": [
    "import pandas as pd\n",
    "from sklearn.feature_extraction.text import TfidfVectorizer\n",
    "from sklearn.model_selection import train_test_split\n",
    "from sklearn.naive_bayes import MultinomialNB\n",
    "from sklearn.metrics import classification_report, accuracy_score"
   ]
  },
  {
   "cell_type": "markdown",
   "metadata": {},
   "source": [
    "TF-IDF BAYES"
   ]
  },
  {
   "cell_type": "code",
   "execution_count": 31,
   "metadata": {},
   "outputs": [
    {
     "name": "stdout",
     "output_type": "stream",
     "text": [
      "Accuracy: 0.7952941176470588\n",
      "\n",
      "Classification Report:\n",
      "               precision    recall  f1-score   support\n",
      "\n",
      "  Loin du VE       0.92      0.67      0.77       129\n",
      "Proche du VE       0.71      0.84      0.77       154\n",
      "   Sur le VE       0.81      0.86      0.84       142\n",
      "\n",
      "    accuracy                           0.80       425\n",
      "   macro avg       0.82      0.79      0.79       425\n",
      "weighted avg       0.81      0.80      0.79       425\n",
      "\n"
     ]
    }
   ],
   "source": [
    "X = df['clean']\n",
    "y = df['Sujet'] \n",
    "\n",
    "df = df.dropna(subset=['clean', 'Sujet'])  # Replace 'label' with your target column name\n",
    "\n",
    "\n",
    "# Split the data into training and test sets\n",
    "X_train, X_test, y_train, y_test = train_test_split(X, y, test_size=0.2, random_state=42)\n",
    "\n",
    "# Apply TF-IDF to transform the text data\n",
    "tfidf_vectorizer = TfidfVectorizer(max_features=5000)  # Adjust max_features as needed\n",
    "X_train_tfidf = tfidf_vectorizer.fit_transform(X_train)\n",
    "X_test_tfidf = tfidf_vectorizer.transform(X_test)\n",
    "\n",
    "# Train a Naive Bayes classifier\n",
    "nb_classifier = MultinomialNB()\n",
    "nb_classifier.fit(X_train_tfidf, y_train)\n",
    "\n",
    "# Make predictions\n",
    "y_pred = nb_classifier.predict(X_test_tfidf)\n",
    "\n",
    "\n",
    "# Evaluate the model\n",
    "print(\"Accuracy:\", accuracy_score(y_test, y_pred))\n",
    "print(\"\\nClassification Report:\\n\", classification_report(y_test, y_pred))\n"
   ]
  },
  {
   "cell_type": "markdown",
   "metadata": {},
   "source": [
    "TF-IDF + SVM "
   ]
  },
  {
   "cell_type": "code",
   "execution_count": 32,
   "metadata": {},
   "outputs": [
    {
     "name": "stdout",
     "output_type": "stream",
     "text": [
      "Accuracy: 0.7952941176470588\n",
      "\n",
      "Classification Report:\n",
      "               precision    recall  f1-score   support\n",
      "\n",
      "  Loin du VE       0.78      0.78      0.78       129\n",
      "Proche du VE       0.72      0.80      0.75       154\n",
      "   Sur le VE       0.93      0.80      0.86       142\n",
      "\n",
      "    accuracy                           0.80       425\n",
      "   macro avg       0.81      0.79      0.80       425\n",
      "weighted avg       0.80      0.80      0.80       425\n",
      "\n"
     ]
    }
   ],
   "source": [
    "from sklearn.feature_extraction.text import TfidfVectorizer\n",
    "from sklearn.model_selection import train_test_split\n",
    "from sklearn.svm import SVC\n",
    "from sklearn.metrics import accuracy_score, classification_report\n",
    "\n",
    "# Assuming 'cleaned_text' is the feature and 'label' is the target column\n",
    "X = df['clean']\n",
    "y = df['Sujet']  # Change this to the actual column name for labels\n",
    "\n",
    "# Split data into training and test sets\n",
    "X_train, X_test, y_train, y_test = train_test_split(X, y, test_size=0.2, random_state=42)\n",
    "\n",
    "# Apply TF-IDF to transform the text data\n",
    "tfidf_vectorizer = TfidfVectorizer(max_features=5000)  # Adjust max_features as needed\n",
    "X_train_tfidf = tfidf_vectorizer.fit_transform(X_train)\n",
    "X_test_tfidf = tfidf_vectorizer.transform(X_test)\n",
    "\n",
    "# Train an SVM classifier\n",
    "svm_classifier = SVC(kernel='linear')  # Using linear kernel for text classification\n",
    "svm_classifier.fit(X_train_tfidf, y_train)\n",
    "\n",
    "# Make predictions\n",
    "y_pred = svm_classifier.predict(X_test_tfidf)\n",
    "\n",
    "# Evaluate the model\n",
    "print(\"Accuracy:\", accuracy_score(y_test, y_pred))\n",
    "print(\"\\nClassification Report:\\n\", classification_report(y_test, y_pred))\n"
   ]
  },
  {
   "cell_type": "code",
   "execution_count": 36,
   "metadata": {},
   "outputs": [
    {
     "name": "stdout",
     "output_type": "stream",
     "text": [
      "Meilleurs paramètres : {'C': 1, 'gamma': 'scale', 'kernel': 'linear'}\n"
     ]
    }
   ],
   "source": [
    "from sklearn.model_selection import GridSearchCV\n",
    "\n",
    "parameters = {\n",
    "    'C': [0.1, 1, 10, 100],\n",
    "    'kernel': ['linear', 'rbf', 'poly'],\n",
    "    'gamma': ['scale', 'auto']\n",
    "}\n",
    "\n",
    "\n",
    "svm = SVC()\n",
    "grid_search = GridSearchCV(svm, parameters, cv=5, scoring='accuracy')\n",
    "grid_search.fit(X_train_tfidf, y_train)\n",
    "\n",
    "print(\"Meilleurs paramètres :\", grid_search.best_params_)\n"
   ]
  },
  {
   "cell_type": "code",
   "execution_count": 38,
   "metadata": {},
   "outputs": [
    {
     "name": "stdout",
     "output_type": "stream",
     "text": [
      "Accuracy après optimisation : 0.7952941176470588\n",
      "\n",
      "Classification Report après optimisation:\n",
      "               precision    recall  f1-score   support\n",
      "\n",
      "  Loin du VE       0.78      0.78      0.78       129\n",
      "Proche du VE       0.72      0.80      0.75       154\n",
      "   Sur le VE       0.93      0.80      0.86       142\n",
      "\n",
      "    accuracy                           0.80       425\n",
      "   macro avg       0.81      0.79      0.80       425\n",
      "weighted avg       0.80      0.80      0.80       425\n",
      "\n"
     ]
    }
   ],
   "source": [
    "# Réentraînement du modèle avec les meilleurs paramètres\n",
    "svm_optimized = SVC(C=1, kernel='linear', gamma='scale')  # Utilisez les paramètres trouvés\n",
    "svm_optimized.fit(X_train_tfidf, y_train)\n",
    "\n",
    "# Faire des prédictions sur les données de test\n",
    "y_pred_optimized = svm_optimized.predict(X_test_tfidf)\n",
    "\n",
    "# Évaluer le modèle optimisé\n",
    "from sklearn.metrics import accuracy_score, classification_report\n",
    "print(\"Accuracy après optimisation :\", accuracy_score(y_test, y_pred_optimized))\n",
    "print(\"\\nClassification Report après optimisation:\\n\", classification_report(y_test, y_pred_optimized))\n"
   ]
  },
  {
   "cell_type": "code",
   "execution_count": 40,
   "metadata": {},
   "outputs": [
    {
     "data": {
      "image/png": "[encoded data removed]",
      "text/plain": [
       "<Figure size 640x480 with 2 Axes>"
      ]
     },
     "metadata": {},
     "output_type": "display_data"
    }
   ],
   "source": [
    "from sklearn.metrics import confusion_matrix, ConfusionMatrixDisplay\n",
    "\n",
    "conf_matrix = confusion_matrix(y_test, y_pred_optimized)\n",
    "disp = ConfusionMatrixDisplay(conf_matrix, display_labels=svm_optimized.classes_)\n",
    "disp.plot(cmap='viridis')\n",
    "plt.show()\n"
   ]
  },
  {
   "cell_type": "markdown",
   "metadata": {},
   "source": [
    "diagonale correcte,\n",
    "hors diagonale ex: 26 loin du VE on etait classé proche di VE"
   ]
  },
  {
   "cell_type": "code",
   "execution_count": 44,
   "metadata": {},
   "outputs": [
    {
     "name": "stdout",
     "output_type": "stream",
     "text": [
      "zsh:1: no matches found: transformers[torch]\n"
     ]
    }
   ],
   "source": [
    "!pip install transformers[torch]\n",
    "\n"
   ]
  },
  {
   "cell_type": "code",
   "execution_count": 45,
   "metadata": {},
   "outputs": [
    {
     "name": "stdout",
     "output_type": "stream",
     "text": [
      "Requirement already satisfied: accelerate in /Users/laylaalkhoury/anaconda3/lib/python3.10/site-packages (1.2.1)\n",
      "Requirement already satisfied: huggingface-hub>=0.21.0 in /Users/laylaalkhoury/anaconda3/lib/python3.10/site-packages (from accelerate) (0.27.1)\n",
      "Requirement already satisfied: numpy<3.0.0,>=1.17 in /Users/laylaalkhoury/anaconda3/lib/python3.10/site-packages (from accelerate) (1.23.5)\n",
      "Requirement already satisfied: safetensors>=0.4.3 in /Users/laylaalkhoury/anaconda3/lib/python3.10/site-packages (from accelerate) (0.5.2)\n",
      "Requirement already satisfied: torch>=1.10.0 in /Users/laylaalkhoury/anaconda3/lib/python3.10/site-packages (from accelerate) (1.12.1)\n",
      "Requirement already satisfied: pyyaml in /Users/laylaalkhoury/anaconda3/lib/python3.10/site-packages (from accelerate) (6.0)\n",
      "Requirement already satisfied: packaging>=20.0 in /Users/laylaalkhoury/anaconda3/lib/python3.10/site-packages (from accelerate) (22.0)\n",
      "Requirement already satisfied: psutil in /Users/laylaalkhoury/anaconda3/lib/python3.10/site-packages (from accelerate) (5.9.0)\n",
      "Requirement already satisfied: requests in /Users/laylaalkhoury/anaconda3/lib/python3.10/site-packages (from huggingface-hub>=0.21.0->accelerate) (2.28.1)\n",
      "Requirement already satisfied: filelock in /Users/laylaalkhoury/anaconda3/lib/python3.10/site-packages (from huggingface-hub>=0.21.0->accelerate) (3.9.0)\n",
      "Requirement already satisfied: tqdm>=4.42.1 in /Users/laylaalkhoury/anaconda3/lib/python3.10/site-packages (from huggingface-hub>=0.21.0->accelerate) (4.64.1)\n",
      "Requirement already satisfied: fsspec>=2023.5.0 in /Users/laylaalkhoury/anaconda3/lib/python3.10/site-packages (from huggingface-hub>=0.21.0->accelerate) (2024.12.0)\n",
      "Requirement already satisfied: typing-extensions>=3.7.4.3 in /Users/laylaalkhoury/anaconda3/lib/python3.10/site-packages (from huggingface-hub>=0.21.0->accelerate) (4.8.0)\n",
      "Requirement already satisfied: charset-normalizer<3,>=2 in /Users/laylaalkhoury/anaconda3/lib/python3.10/site-packages (from requests->huggingface-hub>=0.21.0->accelerate) (2.0.4)\n",
      "Requirement already satisfied: urllib3<1.27,>=1.21.1 in /Users/laylaalkhoury/anaconda3/lib/python3.10/site-packages (from requests->huggingface-hub>=0.21.0->accelerate) (1.26.14)\n",
      "Requirement already satisfied: certifi>=2017.4.17 in /Users/laylaalkhoury/anaconda3/lib/python3.10/site-packages (from requests->huggingface-hub>=0.21.0->accelerate) (2023.5.7)\n",
      "Requirement already satisfied: idna<4,>=2.5 in /Users/laylaalkhoury/anaconda3/lib/python3.10/site-packages (from requests->huggingface-hub>=0.21.0->accelerate) (3.4)\n"
     ]
    }
   ],
   "source": [
    "!pip install accelerate -U\n"
   ]
  },
  {
   "cell_type": "code",
   "execution_count": 47,
   "metadata": {},
   "outputs": [
    {
     "ename": "ModuleNotFoundError",
     "evalue": "No module named 'gensim'",
     "output_type": "error",
     "traceback": [
      "\u001b[0;31m---------------------------------------------------------------------------\u001b[0m",
      "\u001b[0;31mModuleNotFoundError\u001b[0m                       Traceback (most recent call last)",
      "\u001b[1;32m/Users/laylaalkhoury/Desktop/VE-IA/Engineering-Project/NLP/NLP_LaylaNew.ipynb Cell 19\u001b[0m line \u001b[0;36m1\n\u001b[0;32m----> <a href='vscode-notebook-cell:/Users/laylaalkhoury/Desktop/VE-IA/Engineering-Project/NLP/NLP_LaylaNew.ipynb#X24sZmlsZQ%3D%3D?line=0'>1</a>\u001b[0m \u001b[39mfrom\u001b[39;00m \u001b[39mgensim\u001b[39;00m\u001b[39m.\u001b[39;00m\u001b[39mmodels\u001b[39;00m \u001b[39mimport\u001b[39;00m Word2Vec\n\u001b[1;32m      <a href='vscode-notebook-cell:/Users/laylaalkhoury/Desktop/VE-IA/Engineering-Project/NLP/NLP_LaylaNew.ipynb#X24sZmlsZQ%3D%3D?line=1'>2</a>\u001b[0m \u001b[39mimport\u001b[39;00m \u001b[39mnumpy\u001b[39;00m \u001b[39mas\u001b[39;00m \u001b[39mnp\u001b[39;00m\n\u001b[1;32m      <a href='vscode-notebook-cell:/Users/laylaalkhoury/Desktop/VE-IA/Engineering-Project/NLP/NLP_LaylaNew.ipynb#X24sZmlsZQ%3D%3D?line=3'>4</a>\u001b[0m \u001b[39m# Entraîner un modèle Word2Vec\u001b[39;00m\n",
      "\u001b[0;31mModuleNotFoundError\u001b[0m: No module named 'gensim'"
     ]
    }
   ],
   "source": [
    "from gensim.models import Word2Vec\n",
    "import numpy as np\n",
    "\n",
    "# Entraîner un modèle Word2Vec\n",
    "sentences = [tweet.split() for tweet in X_train]\n",
    "word2vec_model = Word2Vec(sentences, vector_size=100, window=5, min_count=1, workers=4)\n",
    "\n",
    "# Représenter les tweets comme la moyenne des vecteurs de mots\n",
    "def get_mean_vector(tweet):\n",
    "    return np.mean([word2vec_model.wv[word] for word in tweet.split() if word in word2vec_model.wv], axis=0)\n",
    "\n",
    "X_train_w2v = np.array([get_mean_vector(tweet) for tweet in X_train])\n",
    "X_test_w2v = np.array([get_mean_vector(tweet) for tweet in X_test])\n",
    "\n",
    "# Classifier avec SVM\n",
    "svm_classifier = SVC(kernel='linear')\n",
    "svm_classifier.fit(X_train_w2v, y_train)\n",
    "y_pred_w2v = svm_classifier.predict(X_test_w2v)\n",
    "print(\"Accuracy:\", accuracy_score(y_test, y_pred_w2v))\n",
    "print(\"\\nClassification Report:\\n\", classification_report(y_test, y_pred_w2v))\n",
    "\n"
   ]
  }
 ],
 "metadata": {
  "kernelspec": {
   "display_name": "Python 3",
   "language": "python",
   "name": "python3"
  },
  "language_info": {
   "codemirror_mode": {
    "name": "ipython",
    "version": 3
   },
   "file_extension": ".py",
   "mimetype": "text/x-python",
   "name": "python",
   "nbconvert_exporter": "python",
   "pygments_lexer": "ipython3",
   "version": "3.9.0"
  }
 },
 "nbformat": 4,
 "nbformat_minor": 2
}
