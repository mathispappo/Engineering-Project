{
 "cells": [
  {
   "cell_type": "code",
   "execution_count": 1,
   "metadata": {},
   "outputs": [],
   "source": [
    "import pandas as pd"
   ]
  },
  {
   "cell_type": "code",
   "execution_count": 2,
   "metadata": {},
   "outputs": [],
   "source": [
    "data = pd.read_json('../discussion_tree_ve_11_2024.json')"
   ]
  },
  {
   "cell_type": "code",
   "execution_count": 3,
   "metadata": {},
   "outputs": [
    {
     "data": {
      "text/html": [
       "<div>\n",
       "<style scoped>\n",
       "    .dataframe tbody tr th:only-of-type {\n",
       "        vertical-align: middle;\n",
       "    }\n",
       "\n",
       "    .dataframe tbody tr th {\n",
       "        vertical-align: top;\n",
       "    }\n",
       "\n",
       "    .dataframe thead th {\n",
       "        text-align: right;\n",
       "    }\n",
       "</style>\n",
       "<table border=\"1\" class=\"dataframe\">\n",
       "  <thead>\n",
       "    <tr style=\"text-align: right;\">\n",
       "      <th></th>\n",
       "      <th>url</th>\n",
       "      <th>date</th>\n",
       "      <th>rawContent</th>\n",
       "      <th>renderedContent</th>\n",
       "      <th>id</th>\n",
       "      <th>user</th>\n",
       "      <th>replyCount</th>\n",
       "      <th>retweetCount</th>\n",
       "      <th>likeCount</th>\n",
       "      <th>quoteCount</th>\n",
       "      <th>...</th>\n",
       "      <th>coordinates</th>\n",
       "      <th>place</th>\n",
       "      <th>hashtags</th>\n",
       "      <th>cashtags</th>\n",
       "      <th>card</th>\n",
       "      <th>viewCount</th>\n",
       "      <th>collected_at</th>\n",
       "      <th>collected_from_id</th>\n",
       "      <th>text</th>\n",
       "      <th>textLinks</th>\n",
       "    </tr>\n",
       "  </thead>\n",
       "  <tbody>\n",
       "    <tr>\n",
       "      <th>0</th>\n",
       "      <td>https://twitter.com/MathieuMlefevre/status/164...</td>\n",
       "      <td>2023-04-14 08:08:01</td>\n",
       "      <td>La haine et les violences anti-riches ne font ...</td>\n",
       "      <td>La haine et les violences anti-riches ne font ...</td>\n",
       "      <td>1646787377409540096</td>\n",
       "      <td>{'username': 'MathieuMlefevre', 'id': 11345064...</td>\n",
       "      <td>529.0</td>\n",
       "      <td>78.0</td>\n",
       "      <td>272.0</td>\n",
       "      <td>55.0</td>\n",
       "      <td>...</td>\n",
       "      <td>Coordinates(longitude=2.4645902, latitude=48.8...</td>\n",
       "      <td>Place(id='6f86d2385ae8ed62', fullName='Nogent-...</td>\n",
       "      <td>[manif13avril, ReformeDesRetraites]</td>\n",
       "      <td>None</td>\n",
       "      <td>None</td>\n",
       "      <td>80224.0</td>\n",
       "      <td>2023-10-09 15:37:24.546</td>\n",
       "      <td>1646859565789577218</td>\n",
       "      <td>None</td>\n",
       "      <td>None</td>\n",
       "    </tr>\n",
       "    <tr>\n",
       "      <th>1</th>\n",
       "      <td>https://twitter.com/UdovicicAntoine/status/164...</td>\n",
       "      <td>2023-04-14 12:54:52</td>\n",
       "      <td>@MathieuMlefevre Hoo la pauvre voiture électri...</td>\n",
       "      <td>@MathieuMlefevre Hoo la pauvre voiture électri...</td>\n",
       "      <td>1646859565789577216</td>\n",
       "      <td>{'username': 'UdovicicAntoine', 'id': 16005916...</td>\n",
       "      <td>0.0</td>\n",
       "      <td>0.0</td>\n",
       "      <td>0.0</td>\n",
       "      <td>0.0</td>\n",
       "      <td>...</td>\n",
       "      <td>None</td>\n",
       "      <td>None</td>\n",
       "      <td>None</td>\n",
       "      <td>None</td>\n",
       "      <td>None</td>\n",
       "      <td>7.0</td>\n",
       "      <td>2023-10-09 15:37:24.546</td>\n",
       "      <td>1646859565789577218</td>\n",
       "      <td>None</td>\n",
       "      <td>None</td>\n",
       "    </tr>\n",
       "    <tr>\n",
       "      <th>2</th>\n",
       "      <td>https://twitter.com/p_duval/status/16468943981...</td>\n",
       "      <td>2023-04-14 15:13:17</td>\n",
       "      <td>@MathieuMlefevre Alors que la haine anti-pauvr...</td>\n",
       "      <td>@MathieuMlefevre Alors que la haine anti-pauvr...</td>\n",
       "      <td>1646894398196654080</td>\n",
       "      <td>{'username': 'p_duval', 'id': 367916454, 'disp...</td>\n",
       "      <td>3.0</td>\n",
       "      <td>12.0</td>\n",
       "      <td>220.0</td>\n",
       "      <td>0.0</td>\n",
       "      <td>...</td>\n",
       "      <td>None</td>\n",
       "      <td>None</td>\n",
       "      <td>None</td>\n",
       "      <td>None</td>\n",
       "      <td>None</td>\n",
       "      <td>2422.0</td>\n",
       "      <td>2023-10-09 15:37:25.190</td>\n",
       "      <td>1646859565789577218</td>\n",
       "      <td>None</td>\n",
       "      <td>None</td>\n",
       "    </tr>\n",
       "    <tr>\n",
       "      <th>3</th>\n",
       "      <td>https://twitter.com/realmarcel1/status/1646870...</td>\n",
       "      <td>2023-04-14 13:37:11</td>\n",
       "      <td>@MathieuMlefevre Cessez de niveler nos salaire...</td>\n",
       "      <td>@MathieuMlefevre Cessez de niveler nos salaire...</td>\n",
       "      <td>1646870214196207616</td>\n",
       "      <td>{'username': 'realmarcel1', 'id': 134792893946...</td>\n",
       "      <td>3.0</td>\n",
       "      <td>26.0</td>\n",
       "      <td>685.0</td>\n",
       "      <td>0.0</td>\n",
       "      <td>...</td>\n",
       "      <td>None</td>\n",
       "      <td>None</td>\n",
       "      <td>None</td>\n",
       "      <td>None</td>\n",
       "      <td>None</td>\n",
       "      <td>10042.0</td>\n",
       "      <td>2023-10-09 15:37:25.191</td>\n",
       "      <td>1646859565789577218</td>\n",
       "      <td>None</td>\n",
       "      <td>None</td>\n",
       "    </tr>\n",
       "    <tr>\n",
       "      <th>4</th>\n",
       "      <td>https://twitter.com/ataraxie66/status/16468818...</td>\n",
       "      <td>2023-04-14 14:23:18</td>\n",
       "      <td>@MathieuMlefevre Rien n 'est plus dangereux qu...</td>\n",
       "      <td>@MathieuMlefevre Rien n 'est plus dangereux qu...</td>\n",
       "      <td>1646881823304085504</td>\n",
       "      <td>{'username': 'ataraxie66', 'id': 793791054, 'd...</td>\n",
       "      <td>0.0</td>\n",
       "      <td>0.0</td>\n",
       "      <td>3.0</td>\n",
       "      <td>0.0</td>\n",
       "      <td>...</td>\n",
       "      <td>None</td>\n",
       "      <td>None</td>\n",
       "      <td>None</td>\n",
       "      <td>None</td>\n",
       "      <td>None</td>\n",
       "      <td>29.0</td>\n",
       "      <td>2023-10-09 15:37:25.191</td>\n",
       "      <td>1646859565789577218</td>\n",
       "      <td>None</td>\n",
       "      <td>None</td>\n",
       "    </tr>\n",
       "  </tbody>\n",
       "</table>\n",
       "<p>5 rows × 29 columns</p>\n",
       "</div>"
      ],
      "text/plain": [
       "                                                 url                date  \\\n",
       "0  https://twitter.com/MathieuMlefevre/status/164... 2023-04-14 08:08:01   \n",
       "1  https://twitter.com/UdovicicAntoine/status/164... 2023-04-14 12:54:52   \n",
       "2  https://twitter.com/p_duval/status/16468943981... 2023-04-14 15:13:17   \n",
       "3  https://twitter.com/realmarcel1/status/1646870... 2023-04-14 13:37:11   \n",
       "4  https://twitter.com/ataraxie66/status/16468818... 2023-04-14 14:23:18   \n",
       "\n",
       "                                          rawContent  \\\n",
       "0  La haine et les violences anti-riches ne font ...   \n",
       "1  @MathieuMlefevre Hoo la pauvre voiture électri...   \n",
       "2  @MathieuMlefevre Alors que la haine anti-pauvr...   \n",
       "3  @MathieuMlefevre Cessez de niveler nos salaire...   \n",
       "4  @MathieuMlefevre Rien n 'est plus dangereux qu...   \n",
       "\n",
       "                                     renderedContent                   id  \\\n",
       "0  La haine et les violences anti-riches ne font ...  1646787377409540096   \n",
       "1  @MathieuMlefevre Hoo la pauvre voiture électri...  1646859565789577216   \n",
       "2  @MathieuMlefevre Alors que la haine anti-pauvr...  1646894398196654080   \n",
       "3  @MathieuMlefevre Cessez de niveler nos salaire...  1646870214196207616   \n",
       "4  @MathieuMlefevre Rien n 'est plus dangereux qu...  1646881823304085504   \n",
       "\n",
       "                                                user  replyCount  \\\n",
       "0  {'username': 'MathieuMlefevre', 'id': 11345064...       529.0   \n",
       "1  {'username': 'UdovicicAntoine', 'id': 16005916...         0.0   \n",
       "2  {'username': 'p_duval', 'id': 367916454, 'disp...         3.0   \n",
       "3  {'username': 'realmarcel1', 'id': 134792893946...         3.0   \n",
       "4  {'username': 'ataraxie66', 'id': 793791054, 'd...         0.0   \n",
       "\n",
       "   retweetCount  likeCount  quoteCount  ...  \\\n",
       "0          78.0      272.0        55.0  ...   \n",
       "1           0.0        0.0         0.0  ...   \n",
       "2          12.0      220.0         0.0  ...   \n",
       "3          26.0      685.0         0.0  ...   \n",
       "4           0.0        3.0         0.0  ...   \n",
       "\n",
       "                                         coordinates  \\\n",
       "0  Coordinates(longitude=2.4645902, latitude=48.8...   \n",
       "1                                               None   \n",
       "2                                               None   \n",
       "3                                               None   \n",
       "4                                               None   \n",
       "\n",
       "                                               place  \\\n",
       "0  Place(id='6f86d2385ae8ed62', fullName='Nogent-...   \n",
       "1                                               None   \n",
       "2                                               None   \n",
       "3                                               None   \n",
       "4                                               None   \n",
       "\n",
       "                              hashtags cashtags  card viewCount  \\\n",
       "0  [manif13avril, ReformeDesRetraites]     None  None   80224.0   \n",
       "1                                 None     None  None       7.0   \n",
       "2                                 None     None  None    2422.0   \n",
       "3                                 None     None  None   10042.0   \n",
       "4                                 None     None  None      29.0   \n",
       "\n",
       "             collected_at    collected_from_id  text textLinks  \n",
       "0 2023-10-09 15:37:24.546  1646859565789577218  None      None  \n",
       "1 2023-10-09 15:37:24.546  1646859565789577218  None      None  \n",
       "2 2023-10-09 15:37:25.190  1646859565789577218  None      None  \n",
       "3 2023-10-09 15:37:25.191  1646859565789577218  None      None  \n",
       "4 2023-10-09 15:37:25.191  1646859565789577218  None      None  \n",
       "\n",
       "[5 rows x 29 columns]"
      ]
     },
     "execution_count": 3,
     "metadata": {},
     "output_type": "execute_result"
    }
   ],
   "source": [
    "data.head(5)"
   ]
  },
  {
   "cell_type": "code",
   "execution_count": null,
   "metadata": {},
   "outputs": [],
   "source": [
    "# exporter les 10 premières lignes de data dans un csv\n",
    "# data.head(20).to_csv('checking.csv')"
   ]
  },
  {
   "cell_type": "code",
   "execution_count": 5,
   "metadata": {},
   "outputs": [
    {
     "name": "stdout",
     "output_type": "stream",
     "text": [
      "<class 'pandas.core.frame.DataFrame'>\n",
      "Index: 1058233 entries, 0 to 1398974\n",
      "Data columns (total 29 columns):\n",
      " #   Column             Non-Null Count    Dtype         \n",
      "---  ------             --------------    -----         \n",
      " 0   url                1017487 non-null  object        \n",
      " 1   date               1017487 non-null  datetime64[ns]\n",
      " 2   rawContent         1017487 non-null  object        \n",
      " 3   renderedContent    1017487 non-null  object        \n",
      " 4   id                 1058233 non-null  int64         \n",
      " 5   user               1017487 non-null  object        \n",
      " 6   replyCount         1017487 non-null  float64       \n",
      " 7   retweetCount       1017487 non-null  float64       \n",
      " 8   likeCount          1017487 non-null  float64       \n",
      " 9   quoteCount         1017487 non-null  float64       \n",
      " 10  conversationId     1017487 non-null  float64       \n",
      " 11  lang               1017487 non-null  object        \n",
      " 12  links              48581 non-null    object        \n",
      " 13  media              81149 non-null    object        \n",
      " 14  retweetedTweet     0 non-null        float64       \n",
      " 15  quotedTweet        16637 non-null    object        \n",
      " 16  inReplyToTweetId   990599 non-null   object        \n",
      " 17  inReplyToUser      990599 non-null   object        \n",
      " 18  mentionedUsers     986089 non-null   object        \n",
      " 19  coordinates        10751 non-null    object        \n",
      " 20  place              10751 non-null    object        \n",
      " 21  hashtags           30396 non-null    object        \n",
      " 22  cashtags           262 non-null      object        \n",
      " 23  card               22559 non-null    object        \n",
      " 24  viewCount          675985 non-null   float64       \n",
      " 25  collected_at       1058233 non-null  datetime64[ns]\n",
      " 26  collected_from_id  1058233 non-null  int64         \n",
      " 27  text               39937 non-null    object        \n",
      " 28  textLinks          39937 non-null    object        \n",
      "dtypes: datetime64[ns](2), float64(7), int64(2), object(18)\n",
      "memory usage: 242.2+ MB\n"
     ]
    }
   ],
   "source": [
    "data.info()"
   ]
  },
  {
   "cell_type": "markdown",
   "metadata": {},
   "source": [
    "#### drop colonne retweetedTweet"
   ]
  },
  {
   "cell_type": "code",
   "execution_count": 6,
   "metadata": {},
   "outputs": [],
   "source": [
    "data = data.drop(columns=['retweetedTweet'])"
   ]
  },
  {
   "cell_type": "markdown",
   "metadata": {},
   "source": [
    "#### drop rows with NULL values in url, date, rawContent, renderedContent, user"
   ]
  },
  {
   "cell_type": "code",
   "execution_count": 7,
   "metadata": {},
   "outputs": [],
   "source": [
    "data = data.dropna(subset=['url', 'date', 'rawContent', 'renderedContent', 'user'])"
   ]
  },
  {
   "cell_type": "markdown",
   "metadata": {},
   "source": [
    "#### Check difference between raw & rendered"
   ]
  },
  {
   "cell_type": "code",
   "execution_count": null,
   "metadata": {},
   "outputs": [],
   "source": [
    "\n",
    "# différences = data['rawContent'] != data['renderedContent']\n",
    "\n",
    "# # Afficher les colonnes rawContent et renderedContent uniquement pour les lignes différentes\n",
    "# check = data.loc[différences, ['rawContent', 'renderedContent']]\n",
    "\n",
    "# check.to_csv('check.csv')\n"
   ]
  },
  {
   "cell_type": "markdown",
   "metadata": {},
   "source": [
    "### Infos après modif"
   ]
  },
  {
   "cell_type": "code",
   "execution_count": 9,
   "metadata": {},
   "outputs": [
    {
     "name": "stdout",
     "output_type": "stream",
     "text": [
      "<class 'pandas.core.frame.DataFrame'>\n",
      "Index: 1017487 entries, 0 to 1398974\n",
      "Data columns (total 28 columns):\n",
      " #   Column             Non-Null Count    Dtype         \n",
      "---  ------             --------------    -----         \n",
      " 0   url                1017487 non-null  object        \n",
      " 1   date               1017487 non-null  datetime64[ns]\n",
      " 2   rawContent         1017487 non-null  object        \n",
      " 3   renderedContent    1017487 non-null  object        \n",
      " 4   id                 1017487 non-null  int64         \n",
      " 5   user               1017487 non-null  object        \n",
      " 6   replyCount         1017487 non-null  float64       \n",
      " 7   retweetCount       1017487 non-null  float64       \n",
      " 8   likeCount          1017487 non-null  float64       \n",
      " 9   quoteCount         1017487 non-null  float64       \n",
      " 10  conversationId     1017487 non-null  float64       \n",
      " 11  lang               1017487 non-null  object        \n",
      " 12  links              48581 non-null    object        \n",
      " 13  media              81149 non-null    object        \n",
      " 14  quotedTweet        16637 non-null    object        \n",
      " 15  inReplyToTweetId   990599 non-null   object        \n",
      " 16  inReplyToUser      990599 non-null   object        \n",
      " 17  mentionedUsers     986089 non-null   object        \n",
      " 18  coordinates        10751 non-null    object        \n",
      " 19  place              10751 non-null    object        \n",
      " 20  hashtags           30396 non-null    object        \n",
      " 21  cashtags           262 non-null      object        \n",
      " 22  card               22559 non-null    object        \n",
      " 23  viewCount          675985 non-null   float64       \n",
      " 24  collected_at       1017487 non-null  datetime64[ns]\n",
      " 25  collected_from_id  1017487 non-null  int64         \n",
      " 26  text               0 non-null        object        \n",
      " 27  textLinks          0 non-null        object        \n",
      "dtypes: datetime64[ns](2), float64(6), int64(2), object(18)\n",
      "memory usage: 225.1+ MB\n"
     ]
    }
   ],
   "source": [
    "data.info()"
   ]
  },
  {
   "cell_type": "markdown",
   "metadata": {},
   "source": [
    "# Suppresion de Colonnes qui semblent Inutiles à l'analyse\n",
    "Ces colonnes peuvent être réintégré dans le dataframe pour tester si les modèle fonctionne mieux !??"
   ]
  },
  {
   "cell_type": "code",
   "execution_count": 10,
   "metadata": {},
   "outputs": [],
   "source": [
    "# URL\n",
    "data = data.drop(columns=['url'])"
   ]
  },
  {
   "cell_type": "code",
   "execution_count": 11,
   "metadata": {},
   "outputs": [],
   "source": [
    "# renderedContent\n",
    "data = data.drop(columns=['renderedContent'])"
   ]
  },
  {
   "cell_type": "code",
   "execution_count": 12,
   "metadata": {},
   "outputs": [],
   "source": [
    "# user\n",
    "data = data.drop(columns=['user'])"
   ]
  },
  {
   "cell_type": "code",
   "execution_count": 13,
   "metadata": {},
   "outputs": [],
   "source": [
    "# links\n",
    "data = data.drop(columns=['links'])"
   ]
  },
  {
   "cell_type": "code",
   "execution_count": 14,
   "metadata": {},
   "outputs": [],
   "source": [
    "# media\n",
    "data = data.drop(columns=['media'])"
   ]
  },
  {
   "cell_type": "code",
   "execution_count": 15,
   "metadata": {},
   "outputs": [],
   "source": [
    "# inReplyToUser\n",
    "data = data.drop(columns=['inReplyToUser'])"
   ]
  },
  {
   "cell_type": "code",
   "execution_count": 16,
   "metadata": {},
   "outputs": [],
   "source": [
    "# mentionedUsers\n",
    "data = data.drop(columns=['mentionedUsers'])"
   ]
  },
  {
   "cell_type": "code",
   "execution_count": 17,
   "metadata": {},
   "outputs": [],
   "source": [
    "# coordinates\n",
    "data = data.drop(columns=['coordinates'])"
   ]
  },
  {
   "cell_type": "code",
   "execution_count": 18,
   "metadata": {},
   "outputs": [],
   "source": [
    "# place\n",
    "data = data.drop(columns=['place'])"
   ]
  },
  {
   "cell_type": "code",
   "execution_count": 20,
   "metadata": {},
   "outputs": [],
   "source": [
    "# text\n",
    "data = data.drop(columns=['text'])"
   ]
  },
  {
   "cell_type": "code",
   "execution_count": 21,
   "metadata": {},
   "outputs": [],
   "source": [
    "# collected_at\n",
    "data = data.drop(columns=['collected_at'])"
   ]
  },
  {
   "cell_type": "code",
   "execution_count": 22,
   "metadata": {},
   "outputs": [],
   "source": [
    "# textLinks\n",
    "data = data.drop(columns=['textLinks'])"
   ]
  },
  {
   "cell_type": "code",
   "execution_count": 23,
   "metadata": {},
   "outputs": [],
   "source": [
    "# card\n",
    "data = data.drop(columns=['card'])"
   ]
  },
  {
   "cell_type": "code",
   "execution_count": 24,
   "metadata": {},
   "outputs": [
    {
     "name": "stdout",
     "output_type": "stream",
     "text": [
      "<class 'pandas.core.frame.DataFrame'>\n",
      "Index: 1017487 entries, 0 to 1398974\n",
      "Data columns (total 15 columns):\n",
      " #   Column             Non-Null Count    Dtype         \n",
      "---  ------             --------------    -----         \n",
      " 0   date               1017487 non-null  datetime64[ns]\n",
      " 1   rawContent         1017487 non-null  object        \n",
      " 2   id                 1017487 non-null  int64         \n",
      " 3   replyCount         1017487 non-null  float64       \n",
      " 4   retweetCount       1017487 non-null  float64       \n",
      " 5   likeCount          1017487 non-null  float64       \n",
      " 6   quoteCount         1017487 non-null  float64       \n",
      " 7   conversationId     1017487 non-null  float64       \n",
      " 8   lang               1017487 non-null  object        \n",
      " 9   quotedTweet        16637 non-null    object        \n",
      " 10  inReplyToTweetId   990599 non-null   object        \n",
      " 11  hashtags           30396 non-null    object        \n",
      " 12  cashtags           262 non-null      object        \n",
      " 13  viewCount          675985 non-null   float64       \n",
      " 14  collected_from_id  1017487 non-null  int64         \n",
      "dtypes: datetime64[ns](1), float64(6), int64(2), object(6)\n",
      "memory usage: 124.2+ MB\n"
     ]
    }
   ],
   "source": [
    "data.info()"
   ]
  },
  {
   "cell_type": "markdown",
   "metadata": {},
   "source": [
    "# Export to csv"
   ]
  },
  {
   "cell_type": "code",
   "execution_count": 25,
   "metadata": {},
   "outputs": [],
   "source": [
    "data.to_csv('data_clean.csv')"
   ]
  },
  {
   "cell_type": "code",
   "execution_count": null,
   "metadata": {},
   "outputs": [],
   "source": [
    "del data\n",
    "del check\n",
    "del différences "
   ]
  }
 ],
 "metadata": {
  "kernelspec": {
   "display_name": "Python 3",
   "language": "python",
   "name": "python3"
  },
  "language_info": {
   "codemirror_mode": {
    "name": "ipython",
    "version": 3
   },
   "file_extension": ".py",
   "mimetype": "text/x-python",
   "name": "python",
   "nbconvert_exporter": "python",
   "pygments_lexer": "ipython3",
   "version": "3.13.0"
  }
 },
 "nbformat": 4,
 "nbformat_minor": 2
}
